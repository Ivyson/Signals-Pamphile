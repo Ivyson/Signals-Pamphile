{
 "cells": [
  {
   "cell_type": "code",
   "execution_count": 1,
   "metadata": {},
   "outputs": [
    {
     "data": {
      "text/latex": [
       "$\\displaystyle I{\\left(s \\right)}$"
      ],
      "text/plain": [
       "I(s)"
      ]
     },
     "metadata": {},
     "output_type": "display_data"
    },
    {
     "data": {
      "text/latex": [
       "$\\displaystyle \\frac{8}{\\left(4 + \\frac{2.0}{s}\\right) \\left(s + 0.4\\right)}$"
      ],
      "text/plain": [
       "8/((4 + 2.0/s)*(s + 0.4))"
      ]
     },
     "metadata": {},
     "output_type": "display_data"
    }
   ],
   "source": [
    "import sympy as sm\n",
    "## The input function is a unit ramp.. therefore..\n",
    "u = sm.Heaviside\n",
    "t = sm.Symbol('t')\n",
    "s = sm.Symbol('s')\n",
    "r,c = 4, 0.5\n",
    "I = 8/((r+1/(c*s))*(s+0.4))\n",
    "display(sm.Function('I')(s),I)"
   ]
  },
  {
   "cell_type": "code",
   "execution_count": 3,
   "metadata": {},
   "outputs": [
    {
     "data": {
      "text/latex": [
       "$\\displaystyle i{\\left(t \\right)}$"
      ],
      "text/plain": [
       "i(t)"
      ]
     },
     "metadata": {},
     "output_type": "display_data"
    },
    {
     "data": {
      "text/latex": [
       "$\\displaystyle 10.0 e^{- 0.5 t} \\theta\\left(t\\right) - 8.0 e^{- 0.4 t} \\theta\\left(t\\right)$"
      ],
      "text/plain": [
       "10.0*exp(-0.5*t)*Heaviside(t) - 8.0*exp(-0.4*t)*Heaviside(t)"
      ]
     },
     "metadata": {},
     "output_type": "display_data"
    }
   ],
   "source": [
    "i = sm.inverse_laplace_transform(I, s, t)\n",
    "display(sm.Function('i')(t),i)"
   ]
  },
  {
   "cell_type": "code",
   "execution_count": 4,
   "metadata": {},
   "outputs": [
    {
     "data": {
      "text/latex": [
       "$\\displaystyle 1.07381460537928$"
      ],
      "text/plain": [
       "1.07381460537928"
      ]
     },
     "metadata": {},
     "output_type": "display_data"
    }
   ],
   "source": [
    "v_out = (1/c)*sm.integrate(i, (t, 0, 7.43))\n",
    "display(v_out)"
   ]
  },
  {
   "cell_type": "code",
   "execution_count": 5,
   "metadata": {},
   "outputs": [
    {
     "data": {
      "text/latex": [
       "$\\displaystyle V{\\left(t \\right)}$"
      ],
      "text/plain": [
       "V(t)"
      ]
     },
     "metadata": {},
     "output_type": "display_data"
    },
    {
     "data": {
      "text/latex": [
       "$\\displaystyle 8 e^{- 0.4 t}$"
      ],
      "text/plain": [
       "8*exp(-0.4*t)"
      ]
     },
     "metadata": {},
     "output_type": "display_data"
    }
   ],
   "source": [
    "pl = 8*sm.exp(-0.4*t)\n",
    "display(sm.Function('V')(t),pl)"
   ]
  },
  {
   "cell_type": "code",
   "execution_count": 6,
   "metadata": {},
   "outputs": [
    {
     "data": {
      "text/plain": [
       "d"
      ]
     },
     "metadata": {},
     "output_type": "display_data"
    },
    {
     "data": {
      "text/plain": [
       "(8/(s + 0.4), -0.400000000000000, True)"
      ]
     },
     "metadata": {},
     "output_type": "display_data"
    }
   ],
   "source": [
    "d = sm.laplace_transform(pl, t, s)\n",
    "display(sm.Function('d'),d)"
   ]
  }
 ],
 "metadata": {
  "kernelspec": {
   "display_name": "Python 3",
   "language": "python",
   "name": "python3"
  },
  "language_info": {
   "codemirror_mode": {
    "name": "ipython",
    "version": 3
   },
   "file_extension": ".py",
   "mimetype": "text/x-python",
   "name": "python",
   "nbconvert_exporter": "python",
   "pygments_lexer": "ipython3",
   "version": "3.12.7"
  }
 },
 "nbformat": 4,
 "nbformat_minor": 2
}
