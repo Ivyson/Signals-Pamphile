{
 "cells": [
  {
   "cell_type": "markdown",
   "metadata": {},
   "source": [
    "![alt text](Q5.png)"
   ]
  },
  {
   "cell_type": "code",
   "execution_count": 68,
   "metadata": {},
   "outputs": [
    {
     "name": "stdout",
     "output_type": "stream",
     "text": [
      "1.0666*pi\n"
     ]
    }
   ],
   "source": [
    "import sympy as sm\n",
    "omega = sm.Symbol('omega')  #5*sm.pi\n",
    "Fomega = sm.Symbol('Fomega') #2*sm.pi*6\n",
    "\n",
    "# y = \n",
    "# Y\n",
    "# 0.8 = T + T/2= 3T/2\n",
    "# 0.8*2/3 =T\n",
    "T = 0.5333\n",
    "w = 2*sm.pi*T\n",
    "print(w)\n",
    "Y =62*(0.3)*(sm.sinc((12*sm.pi*-w)*0.3)+sm.sinc((12*sm.pi+w)*0.3))"
   ]
  },
  {
   "cell_type": "code",
   "execution_count": 67,
   "metadata": {},
   "outputs": [
    {
     "name": "stdout",
     "output_type": "stream",
     "text": [
      "-0.279252469898684\n"
     ]
    }
   ],
   "source": [
    "print(Y.evalf())"
   ]
  }
 ],
 "metadata": {
  "kernelspec": {
   "display_name": ".venv",
   "language": "python",
   "name": "python3"
  },
  "language_info": {
   "codemirror_mode": {
    "name": "ipython",
    "version": 3
   },
   "file_extension": ".py",
   "mimetype": "text/x-python",
   "name": "python",
   "nbconvert_exporter": "python",
   "pygments_lexer": "ipython3",
   "version": "3.12.7"
  }
 },
 "nbformat": 4,
 "nbformat_minor": 2
}
