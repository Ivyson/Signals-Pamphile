{
 "cells": [
  {
   "cell_type": "markdown",
   "metadata": {},
   "source": [
    "![alt text](Q5.png)"
   ]
  },
  {
   "cell_type": "code",
   "execution_count": null,
   "metadata": {},
   "outputs": [
    {
     "data": {
      "text/plain": [
       "0.5290119761121183"
      ]
     },
     "execution_count": 2,
     "metadata": {},
     "output_type": "execute_result"
    }
   ],
   "source": [
    "import math\n",
    "\n",
    "# Given values\n",
    "A = 64\n",
    "T = 0.6\n",
    "omega = 5 * math.pi\n",
    "fourier_frequency = 6  # in Hz\n",
    "\n",
    "# Step 1: Calculate f_0 from omega\n",
    "f0 = omega / (2 * math.pi)\n",
    "\n",
    "# Step 2: Calculate the amplitude term\n",
    "amplitude_term = (A * T) / 2\n",
    "# Calculate the arguments for the sinc functions\n",
    "arg1 = (fourier_frequency - f0) * T\n",
    "arg2 = (fourier_frequency + f0) * T\n",
    "\n",
    "# Step 4: Calculate the sinc functions\n",
    "# sinc(x) = sin(pi * x) / (pi * x)\n",
    "sinc_arg1 = math.sin(math.pi * arg1) / (math.pi * arg1)\n",
    "sinc_arg2 = math.sin(math.pi * arg2) / (math.pi * arg2)\n",
    "\n",
    "result = amplitude_term * (sinc_arg1 + sinc_arg2)\n",
    "result\n",
    "\n"
   ]
  }
 ],
 "metadata": {
  "kernelspec": {
   "display_name": ".venv",
   "language": "python",
   "name": "python3"
  },
  "language_info": {
   "codemirror_mode": {
    "name": "ipython",
    "version": 3
   },
   "file_extension": ".py",
   "mimetype": "text/x-python",
   "name": "python",
   "nbconvert_exporter": "python",
   "pygments_lexer": "ipython3",
   "version": "3.12.7"
  }
 },
 "nbformat": 4,
 "nbformat_minor": 2
}
