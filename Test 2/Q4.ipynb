{
 "cells": [
  {
   "cell_type": "markdown",
   "metadata": {},
   "source": [
    "![alt text](Q4.png)"
   ]
  },
  {
   "cell_type": "code",
   "execution_count": 1,
   "metadata": {},
   "outputs": [
    {
     "name": "stdout",
     "output_type": "stream",
     "text": [
      "The peak amplitude voltage of the output signal is 14.6747 Volts\n"
     ]
    }
   ],
   "source": [
    "import numpy as np\n",
    "\n",
    "# Given parameters\n",
    "frequency = 1.2e3  # Frequency in Hz\n",
    "R = 18  # Resistance in Ohms\n",
    "C = 17.6e-6  # Capacitance in Farads\n",
    "V_peak_input = 38  # Peak amplitude of the input voltage in Volts\n",
    "\n",
    "# Angular frequency\n",
    "omega = 2 * np.pi * frequency\n",
    "\n",
    "# Transfer function H(jw) for an RC low-pass filter\n",
    "H_jw = 1 / (1 + 1j * omega * R * C)\n",
    "\n",
    "# Calculate the peak amplitude of the output voltage\n",
    "V_peak_output = np.abs(H_jw) * V_peak_input\n",
    "\n",
    "print(f\"The peak amplitude voltage of the output signal is {V_peak_output:.4f} Volts\")\n"
   ]
  }
 ],
 "metadata": {
  "kernelspec": {
   "display_name": "Python 3",
   "language": "python",
   "name": "python3"
  },
  "language_info": {
   "codemirror_mode": {
    "name": "ipython",
    "version": 3
   },
   "file_extension": ".py",
   "mimetype": "text/x-python",
   "name": "python",
   "nbconvert_exporter": "python",
   "pygments_lexer": "ipython3",
   "version": "3.12.7"
  }
 },
 "nbformat": 4,
 "nbformat_minor": 2
}
