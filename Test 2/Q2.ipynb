{
 "cells": [
  {
   "cell_type": "markdown",
   "metadata": {},
   "source": [
    "![alt text](image.png)"
   ]
  },
  {
   "cell_type": "code",
   "execution_count": 1,
   "metadata": {},
   "outputs": [
    {
     "data": {
      "text/latex": [
       "$\\displaystyle V_{out}{\\left(s \\right)}$"
      ],
      "text/plain": [
       "V_out(s)"
      ]
     },
     "metadata": {},
     "output_type": "display_data"
    },
    {
     "data": {
      "text/latex": [
       "$\\displaystyle \\frac{4}{\\left(s + 0.2\\right)^{2} \\left(s + 0.25\\right)}$"
      ],
      "text/plain": [
       "4/((s + 0.2)**2*(s + 0.25))"
      ]
     },
     "metadata": {},
     "output_type": "display_data"
    }
   ],
   "source": [
    "import sympy as sm\n",
    "s,t = sm.symbols('s t')\n",
    "V_out = 4/(((s+0.2)**2)*(s+0.25))\n",
    "display(sm.Function('V_out')(s),V_out)"
   ]
  },
  {
   "cell_type": "code",
   "execution_count": 5,
   "metadata": {},
   "outputs": [
    {
     "data": {
      "text/latex": [
       "$\\displaystyle v_{out}{\\left(s \\right)}$"
      ],
      "text/plain": [
       "v_out(s)"
      ]
     },
     "metadata": {},
     "output_type": "display_data"
    },
    {
     "data": {
      "text/latex": [
       "$\\displaystyle \\frac{1600.0}{1.0 s + 0.25} - \\frac{1600.0}{1.0 s + 0.2} + \\frac{80.0}{\\left(1.0 s + 0.2\\right)^{2}}$"
      ],
      "text/plain": [
       "1600.0/(1.0*s + 0.25) - 1600.0/(1.0*s + 0.2) + 80.0/(1.0*s + 0.2)**2"
      ]
     },
     "metadata": {},
     "output_type": "display_data"
    },
    {
     "data": {
      "text/latex": [
       "$\\displaystyle v_{out}{\\left(t \\right)}$"
      ],
      "text/plain": [
       "v_out(t)"
      ]
     },
     "metadata": {},
     "output_type": "display_data"
    },
    {
     "data": {
      "text/latex": [
       "$\\displaystyle 80.0 t e^{- 0.2 t} \\theta\\left(t\\right) + 1600.0 e^{- 0.25 t} \\theta\\left(t\\right) - 1600.0 e^{- 0.2 t} \\theta\\left(t\\right)$"
      ],
      "text/plain": [
       "80.0*t*exp(-0.2*t)*Heaviside(t) + 1600.0*exp(-0.25*t)*Heaviside(t) - 1600.0*exp(-0.2*t)*Heaviside(t)"
      ]
     },
     "metadata": {},
     "output_type": "display_data"
    }
   ],
   "source": [
    "partial = sm.apart(V_out)\n",
    "display(sm.Function('v_out')(s),partial)\n",
    "v_out = sm.inverse_laplace_transform(V_out, s, t)\n",
    "display(sm.Function('v_out')(t),v_out)"
   ]
  },
  {
   "cell_type": "code",
   "execution_count": 3,
   "metadata": {},
   "outputs": [
    {
     "data": {
      "text/latex": [
       "$\\displaystyle v_{out}{\\left(t \\right)}$"
      ],
      "text/plain": [
       "v_out(t)"
      ]
     },
     "metadata": {},
     "output_type": "display_data"
    },
    {
     "data": {
      "text/latex": [
       "$\\displaystyle 1.8765185271569$"
      ],
      "text/plain": [
       "1.87651852715690"
      ]
     },
     "metadata": {},
     "output_type": "display_data"
    }
   ],
   "source": [
    "display(sm.Function('v_out')(t),v_out.subs(t, 1.09))"
   ]
  }
 ],
 "metadata": {
  "kernelspec": {
   "display_name": "Python 3",
   "language": "python",
   "name": "python3"
  },
  "language_info": {
   "codemirror_mode": {
    "name": "ipython",
    "version": 3
   },
   "file_extension": ".py",
   "mimetype": "text/x-python",
   "name": "python",
   "nbconvert_exporter": "python",
   "pygments_lexer": "ipython3",
   "version": "3.12.7"
  }
 },
 "nbformat": 4,
 "nbformat_minor": 2
}
