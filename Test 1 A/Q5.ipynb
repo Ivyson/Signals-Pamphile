{
 "cells": [
  {
   "cell_type": "markdown",
   "metadata": {},
   "source": [
    "![alt text](Q5.png)"
   ]
  },
  {
   "cell_type": "code",
   "execution_count": 9,
   "metadata": {},
   "outputs": [
    {
     "name": "stdout",
     "output_type": "stream",
     "text": [
      "[-5 -4 -3 -2 -1  0  1  2  3  4  5  6]\n",
      "[ 0  0  0 -1 -1 -1  0  1  2  3  3  1  1  0]\n",
      "[0 0 0 0 0 0 2 3 1 0 0]\n"
     ]
    }
   ],
   "source": [
    "# Discrete Functions are dating with numpy ****\n",
    "import numpy as np\n",
    "# Firstly lets replicate the functions \n",
    "n = np.arange(-5,7)\n",
    "#Create the corrspnding y values\n",
    "x = np.array([0, 0, 0, -1, -1, -1, 0, 1, 2, 3, 3,1, 1, 0])\n",
    "h = np.array([ 0, 0, 0, 0, 0 ,0 ,2, 3, 1, 0, 0])\n",
    "print(n)\n",
    "print(x)\n",
    "print(h)"
   ]
  },
  {
   "cell_type": "code",
   "execution_count": 25,
   "metadata": {},
   "outputs": [
    {
     "name": "stdout",
     "output_type": "stream",
     "text": [
      "[-5 -4 -3 -2 -1  0  1  2  3  4  5  6]\n",
      "[ 0  0  0 -1 -1 -1  0  1  2  3  3  1  1  0]\n",
      "[0 0 0 0 0 0 2 3 1 0 0]\n",
      "[ 0  0  0  0 -2 -5 -6 -4  1  7 13 17 14  8]\n"
     ]
    }
   ],
   "source": [
    "y = np.convolve(h,x,mode = \"same\")\n",
    "print(n)\n",
    "print(x)\n",
    "print(h)\n",
    "print(y)\n"
   ]
  }
 ],
 "metadata": {
  "kernelspec": {
   "display_name": ".venv",
   "language": "python",
   "name": "python3"
  },
  "language_info": {
   "codemirror_mode": {
    "name": "ipython",
    "version": 3
   },
   "file_extension": ".py",
   "mimetype": "text/x-python",
   "name": "python",
   "nbconvert_exporter": "python",
   "pygments_lexer": "ipython3",
   "version": "3.12.7"
  }
 },
 "nbformat": 4,
 "nbformat_minor": 2
}
