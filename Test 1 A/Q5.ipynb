{
 "cells": [
  {
   "cell_type": "markdown",
   "metadata": {},
   "source": [
    "![alt text](Q5.png)"
   ]
  },
  {
   "cell_type": "code",
   "execution_count": 2,
   "metadata": {},
   "outputs": [
    {
     "name": "stdout",
     "output_type": "stream",
     "text": [
      "[-7 -6 -5 -4 -3 -2 -1  0  1  2  3  4  5  6]\n",
      "[ 0  0  0 -1 -1 -1  0  1  2  3  3  1  1  0]\n",
      "[0 0 0 0 0 0 0 0 0 2 3 1 0 0]\n"
     ]
    }
   ],
   "source": [
    "# Discrete Functions are dating with numpy ****\n",
    "import numpy as np\n",
    "\n",
    "# Firstly lets replicate the functions \n",
    "n = np.arange(-7,7)\n",
    "#Create the corresponding y values\n",
    "x = np.array([0, 0, 0, -1, -1, -1, 0, 1, 2, 3, 3,1, 1, 0])\n",
    "\n",
    "h = np.array([0, 0, 0, 0, 0, 0, 0, 0 ,0 ,2, 3, 1, 0, 0])\n",
    "print(n)\n",
    "print(x)\n",
    "print(h)"
   ]
  },
  {
   "cell_type": "code",
   "execution_count": 10,
   "metadata": {},
   "outputs": [
    {
     "name": "stdout",
     "output_type": "stream",
     "text": [
      "y[-1] = -5\n"
     ]
    }
   ],
   "source": [
    "y = np.convolve(h,x,mode = \"valid\")\n",
    "print(f'y[-1] = {y[-1]}')"
   ]
  }
 ],
 "metadata": {
  "kernelspec": {
   "display_name": ".venv",
   "language": "python",
   "name": "python3"
  },
  "language_info": {
   "codemirror_mode": {
    "name": "ipython",
    "version": 3
   },
   "file_extension": ".py",
   "mimetype": "text/x-python",
   "name": "python",
   "nbconvert_exporter": "python",
   "pygments_lexer": "ipython3",
   "version": "3.12.7"
  }
 },
 "nbformat": 4,
 "nbformat_minor": 2
}
