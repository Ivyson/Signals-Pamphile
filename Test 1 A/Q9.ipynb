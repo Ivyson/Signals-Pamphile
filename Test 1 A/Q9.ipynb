{
 "cells": [
  {
   "cell_type": "markdown",
   "metadata": {},
   "source": [
    "![alt text](Q9.png)"
   ]
  },
  {
   "cell_type": "code",
   "execution_count": 1,
   "metadata": {},
   "outputs": [
    {
     "data": {
      "text/latex": [
       "$\\displaystyle 12$"
      ],
      "text/plain": [
       "12"
      ]
     },
     "execution_count": 1,
     "metadata": {},
     "output_type": "execute_result"
    }
   ],
   "source": [
    "import sympy as sm\n",
    "\n",
    "t = sm.Symbol('t')\n",
    "y = sm.Piecewise(((t+6), (t > -6) & (t < -3)), (3, (t > -3) & (t < 0)), \n",
    "                 ((-t+3),(t > 0 ) & (t < 2)),\n",
    "                 (1, (t > 2) & (t < 4)), (0, True))\n",
    "# sm.plot(y, (t, -7, 5))\n",
    "yt = 2*y.subs(t, 3-t)\n",
    "result = sm.integrate(yt, (t, -3, 3))\n",
    "result"
   ]
  },
  {
   "cell_type": "code",
   "execution_count": null,
   "metadata": {},
   "outputs": [],
   "source": []
  }
 ],
 "metadata": {
  "kernelspec": {
   "display_name": ".venv",
   "language": "python",
   "name": "python3"
  },
  "language_info": {
   "codemirror_mode": {
    "name": "ipython",
    "version": 3
   },
   "file_extension": ".py",
   "mimetype": "text/x-python",
   "name": "python",
   "nbconvert_exporter": "python",
   "pygments_lexer": "ipython3",
   "version": "3.12.7"
  }
 },
 "nbformat": 4,
 "nbformat_minor": 2
}
