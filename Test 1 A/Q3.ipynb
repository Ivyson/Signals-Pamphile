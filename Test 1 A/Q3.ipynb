{
 "cells": [
  {
   "cell_type": "markdown",
   "metadata": {},
   "source": [
    "![alt text](Q3.png)"
   ]
  },
  {
   "cell_type": "code",
   "execution_count": 1,
   "metadata": {},
   "outputs": [
    {
     "name": "stdout",
     "output_type": "stream",
     "text": [
      "[-7 -6 -5 -4 -3 -2 -1  0  1  2  3  4  5  6]\n",
      "[ 0  0  0 -1 -1 -1  0  1  2  3  3  1  1  0]\n"
     ]
    }
   ],
   "source": [
    "# When dealing with Discrete Function, Numpy is a go-to guy..\n",
    "import numpy as np\n",
    "# Create the n axis- > Discrete time stamps\n",
    "\n",
    "n = np.arange(-7,7)\n",
    "#Create the corresponding y values\n",
    "x = np.array([0, 0, 0, -1, -1, -1, 0, 1, 2, 3, 3,1, 1, 0])\n",
    "print(n)\n",
    "print(x)"
   ]
  },
  {
   "cell_type": "code",
   "execution_count": 8,
   "metadata": {},
   "outputs": [
    {
     "name": "stdout",
     "output_type": "stream",
     "text": [
      "5.0\n"
     ]
    }
   ],
   "source": [
    "# Find the even function\n",
    "\n",
    "xeven = 0.5 * (x + x[::-1])  # The x[::-1] -> Does a time reversal\n",
    "values = np.where((n >= -2) & (n <= 5))  # The sums that we want\n",
    "sum_even = xeven[values].sum()\n",
    "print(sum_even)\n"
   ]
  }
 ],
 "metadata": {
  "kernelspec": {
   "display_name": ".venv",
   "language": "python",
   "name": "python3"
  },
  "language_info": {
   "codemirror_mode": {
    "name": "ipython",
    "version": 3
   },
   "file_extension": ".py",
   "mimetype": "text/x-python",
   "name": "python",
   "nbconvert_exporter": "python",
   "pygments_lexer": "ipython3",
   "version": "3.12.7"
  }
 },
 "nbformat": 4,
 "nbformat_minor": 2
}
