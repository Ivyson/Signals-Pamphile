{
 "cells": [
  {
   "cell_type": "markdown",
   "metadata": {},
   "source": [
    "![alt text](Q1.png)"
   ]
  },
  {
   "cell_type": "code",
   "execution_count": 5,
   "metadata": {},
   "outputs": [
    {
     "name": "stdout",
     "output_type": "stream",
     "text": [
      "y[n] = x[n]+ay[n-1]\n",
      "$whereby a = 0.5, x[n] = 3 µ[t]\n"
     ]
    }
   ],
   "source": [
    "# Display the actual function\n",
    "print('y[n] = x[n]+ay[n-1]')\n",
    "print(r'$whereby a = 0.5, x[n] = 3 µ[t]')"
   ]
  },
  {
   "cell_type": "code",
   "execution_count": 6,
   "metadata": {},
   "outputs": [
    {
     "name": "stdout",
     "output_type": "stream",
     "text": [
      "y[0] = 3\n",
      "y[1] = 4.5\n",
      "y[2] = 5.25\n",
      "y[3] = 5.625\n"
     ]
    }
   ],
   "source": [
    "yn = 0\n",
    "for i in range(0, 4):\n",
    "    y = 3 + yn\n",
    "    yn = 0.5*y\n",
    "    print(f'y[{i}] = {y}')"
   ]
  }
 ],
 "metadata": {
  "kernelspec": {
   "display_name": ".venv",
   "language": "python",
   "name": "python3"
  },
  "language_info": {
   "codemirror_mode": {
    "name": "ipython",
    "version": 3
   },
   "file_extension": ".py",
   "mimetype": "text/x-python",
   "name": "python",
   "nbconvert_exporter": "python",
   "pygments_lexer": "ipython3",
   "version": "3.12.7"
  }
 },
 "nbformat": 4,
 "nbformat_minor": 2
}
