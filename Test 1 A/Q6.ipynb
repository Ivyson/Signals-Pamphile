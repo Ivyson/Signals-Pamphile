{
 "cells": [
  {
   "cell_type": "markdown",
   "metadata": {},
   "source": [
    "![alt text](Q6.png)"
   ]
  },
  {
   "cell_type": "code",
   "execution_count": 1,
   "metadata": {},
   "outputs": [
    {
     "name": "stdout",
     "output_type": "stream",
     "text": [
      "[-8 -7 -6 -5 -4 -3 -2 -1  0  1  2  3  4  5  6  7]\n",
      "[ 0  0  0  1  2  3  1  1  1  0 -1 -2 -2  0  0  0]\n"
     ]
    }
   ],
   "source": [
    "# Discrete is dating Numpy ***\n",
    "import numpy as np\n",
    "## Replicate the graph!\n",
    "# Create the n - axit values\n",
    "n = np.arange(-8, 8)\n",
    "x = np.array([0, 0, 0, 1, 2, 3, 1, 1, 1, 0, -1, -2, -2, 0, 0, 0])\n",
    "print(n)    \n",
    "print(x)"
   ]
  },
  {
   "cell_type": "code",
   "execution_count": 4,
   "metadata": {},
   "outputs": [
    {
     "name": "stdout",
     "output_type": "stream",
     "text": [
      "-6\n"
     ]
    }
   ],
   "source": [
    "# Perform time reversal and time shifting\n",
    "y = 3 * x[2 - n]\n",
    "print(y[-2]+y[-1]+y[0]+ y[1]+y[2]+y[3]+y[4])"
   ]
  }
 ],
 "metadata": {
  "kernelspec": {
   "display_name": ".venv",
   "language": "python",
   "name": "python3"
  },
  "language_info": {
   "codemirror_mode": {
    "name": "ipython",
    "version": 3
   },
   "file_extension": ".py",
   "mimetype": "text/x-python",
   "name": "python",
   "nbconvert_exporter": "python",
   "pygments_lexer": "ipython3",
   "version": "3.12.7"
  }
 },
 "nbformat": 4,
 "nbformat_minor": 2
}
