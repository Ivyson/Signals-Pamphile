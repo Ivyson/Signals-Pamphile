{
 "cells": [
  {
   "cell_type": "markdown",
   "metadata": {},
   "source": [
    "![alt text](Q2.png)"
   ]
  },
  {
   "cell_type": "code",
   "execution_count": 8,
   "metadata": {},
   "outputs": [
    {
     "data": {
      "text/latex": [
       "$\\displaystyle C_{k}{\\left(k \\right)} = \\frac{8 X_{0}}{\\pi^{2} k^{2}}$"
      ],
      "text/plain": [
       "Eq(C_k(k), 8*X_0/(pi**2*k**2))"
      ]
     },
     "metadata": {},
     "output_type": "display_data"
    }
   ],
   "source": [
    "import sympy as sy\n",
    "k,t,T = sy.symbols('k t,T')\n",
    "X_0 = sy.symbols('X_0')\n",
    "X_0\n",
    "C_k = 8*X_0/(sy.pi*k)**2 \n",
    "# C_k\n",
    "display(sy.Equality(sy.Function('C_k')(k),C_k))"
   ]
  }
 ],
 "metadata": {
  "kernelspec": {
   "display_name": ".venv",
   "language": "python",
   "name": "python3"
  },
  "language_info": {
   "codemirror_mode": {
    "name": "ipython",
    "version": 3
   },
   "file_extension": ".py",
   "mimetype": "text/x-python",
   "name": "python",
   "nbconvert_exporter": "python",
   "pygments_lexer": "ipython3",
   "version": "3.12.7"
  }
 },
 "nbformat": 4,
 "nbformat_minor": 2
}
