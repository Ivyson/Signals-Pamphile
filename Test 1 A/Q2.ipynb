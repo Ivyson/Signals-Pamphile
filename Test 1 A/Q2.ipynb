{
 "cells": [
  {
   "cell_type": "markdown",
   "metadata": {},
   "source": [
    "![alt text](Q2.png)"
   ]
  },
  {
   "cell_type": "code",
   "execution_count": 11,
   "metadata": {},
   "outputs": [
    {
     "data": {
      "text/latex": [
       "$\\displaystyle C_{k}{\\left(k \\right)} = - \\frac{2 X_{0}}{\\pi^{2} k^{2}}$"
      ],
      "text/plain": [
       "Eq(C_k(k), -2*X_0/(pi**2*k**2))"
      ]
     },
     "metadata": {},
     "output_type": "display_data"
    },
    {
     "data": {
      "text/latex": [
       "$\\displaystyle C_{0}{\\left(0 \\right)} = \\frac{X_{0}}{2}$"
      ],
      "text/plain": [
       "Eq(C_0(0), X_0/2)"
      ]
     },
     "metadata": {},
     "output_type": "display_data"
    }
   ],
   "source": [
    "import sympy as sy\n",
    "k,t,T = sy.symbols('k t,T')\n",
    "X_0 = sy.symbols('X_0')\n",
    "X_0\n",
    "C_k = -2*X_0/(sy.pi*k)**2 \n",
    "# C_k\n",
    "display(sy.Equality(sy.Function('C_k')(k),C_k))\n",
    "display(sy.Equality(sy.Function('C_0')(0),X_0/2))"
   ]
  },
  {
   "cell_type": "code",
   "execution_count": 2,
   "metadata": {},
   "outputs": [
    {
     "data": {
      "text/plain": [
       "2.5"
      ]
     },
     "execution_count": 2,
     "metadata": {},
     "output_type": "execute_result"
    }
   ],
   "source": [
    "# Amplitude = Top Peak - Lowest Peak\n",
    "# Amplitude = 10 - 5 = 5\n",
    "Amplitude = 5\n",
    "C_0 = Amplitude/2\n",
    "C_0"
   ]
  }
 ],
 "metadata": {
  "kernelspec": {
   "display_name": ".venv",
   "language": "python",
   "name": "python3"
  },
  "language_info": {
   "codemirror_mode": {
    "name": "ipython",
    "version": 3
   },
   "file_extension": ".py",
   "mimetype": "text/x-python",
   "name": "python",
   "nbconvert_exporter": "python",
   "pygments_lexer": "ipython3",
   "version": "3.12.7"
  }
 },
 "nbformat": 4,
 "nbformat_minor": 2
}
