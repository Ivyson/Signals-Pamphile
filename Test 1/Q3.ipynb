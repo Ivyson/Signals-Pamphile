{
 "cells": [
  {
   "cell_type": "markdown",
   "metadata": {},
   "source": [
    "![alt text](Q3.png)"
   ]
  },
  {
   "cell_type": "code",
   "execution_count": 1,
   "metadata": {},
   "outputs": [
    {
     "name": "stdout",
     "output_type": "stream",
     "text": [
      "The X_0 Represents the Amplitude of the Amplitude of the function\n",
      "Amplitude = High - Low => B-A => 7-4=3\n"
     ]
    },
    {
     "data": {
      "text/latex": [
       "$\\displaystyle C_{k} = \\begin{cases} - \\frac{2 X_{0}}{\\pi^{2} k^{2}} & \\text{for}\\: k > 0 \\\\\\frac{A}{2} + \\frac{B}{2} & \\text{for}\\: k < 0 \\end{cases}$"
      ],
      "text/plain": [
       "Eq(C_k, Piecewise((-2*X_0/(pi**2*k**2), k > 0), (A/2 + B/2, k < 0)))"
      ]
     },
     "metadata": {},
     "output_type": "display_data"
    },
    {
     "data": {
      "text/latex": [
       "$\\displaystyle C_{k} = - \\frac{6}{49 \\pi^{2}}$"
      ],
      "text/plain": [
       "Eq(C_k, -6/(49*pi**2))"
      ]
     },
     "metadata": {},
     "output_type": "display_data"
    }
   ],
   "source": [
    "import sympy as sm\n",
    "\n",
    "C_k, X_0, k,A,B = sm.symbols('C_k X_0 k A B')\n",
    "ck = -(2*X_0)/(sm.pi*k)**2\n",
    "ck = sm.Piecewise((-(2*X_0)/(sm.pi*k)**2, (k > 0)),((A+B)/2, (k < 0)))\n",
    "# display({sm.Function('X_0')(0))\n",
    "print('The X_0 Represents the Amplitude of the Amplitude of the function')\n",
    "print('Amplitude = High - Low => B-A => 7-4=3')\n",
    "display(sm.Eq(C_k, ck))\n",
    "display('the k < 0 Condition is for k = 0')\n",
    "# The Graph is from \n",
    "ck = ck.subs(k, 7)\n",
    "display(sm.Eq(C_k, ck.subs(X_0, 3)))"
   ]
  }
 ],
 "metadata": {
  "kernelspec": {
   "display_name": ".venv",
   "language": "python",
   "name": "python3"
  },
  "language_info": {
   "codemirror_mode": {
    "name": "ipython",
    "version": 3
   },
   "file_extension": ".py",
   "mimetype": "text/x-python",
   "name": "python",
   "nbconvert_exporter": "python",
   "pygments_lexer": "ipython3",
   "version": "3.12.7"
  }
 },
 "nbformat": 4,
 "nbformat_minor": 2
}
