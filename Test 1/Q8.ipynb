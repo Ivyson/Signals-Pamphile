{
 "cells": [
  {
   "cell_type": "markdown",
   "metadata": {},
   "source": [
    "![alt text](Q8.1.png)\n",
    "![alt text](Q8.2.png)"
   ]
  },
  {
   "cell_type": "code",
   "execution_count": null,
   "metadata": {},
   "outputs": [
    {
     "name": "stdout",
     "output_type": "stream",
     "text": [
      "-7\n",
      "[  0   0   0   0   2   7  13  13   8   6   4  -1  -7 -11  -8  -2   0   0\n",
      "   0]\n"
     ]
    }
   ],
   "source": [
    "\"\"\"\n",
    "Define the two equations\n",
    "They should share the same time interval\n",
    "\"\"\"\n",
    "import numpy as np\n",
    "n = np.arange(-10, 10)\n",
    "y = np.array([0, 1, 2, 3, 1, 1, 1,0, -1, -2, -2, 0, 0]) # Startign at -6\n",
    "y2 = np.array([0, 0, 0, 2, 3, 1, 0]) # Starting at -1\n",
    "start = -6+-1\n",
    "print(start)\n",
    "p = np.convolve(y,y2,mode=\"full\")\n",
    "print(p)\n"
   ]
  },
  {
   "cell_type": "code",
   "execution_count": 13,
   "metadata": {},
   "outputs": [
    {
     "name": "stdout",
     "output_type": "stream",
     "text": [
      "[ 0  0  0  0 -2 -5 -6 -4  1  7 13 17 14  8  4  1  0  0]\n",
      "Length of result with mode='full': 18\n",
      "This index starts at index -6\n"
     ]
    }
   ],
   "source": [
    "# scene 2\n",
    "h = np.array([0, 0, 0, 2, 3, 1, 0]) # Starting at -1\n",
    "x = np.array([0,-1, -1, -1, 0, 1, 2, 3, 3, 1, 1, 0]) # Starting at -5\n",
    "# starting index = -5-1=-6\n",
    "result = np.convolve(h,x,mode=\"full\")\n",
    "print(result)\n",
    "print(f\"Length of result with mode='full': {len(h) + len(x) - 1}\")\n",
    "print(f'This index starts at index {-6}')"
   ]
  }
 ],
 "metadata": {
  "kernelspec": {
   "display_name": ".venv",
   "language": "python",
   "name": "python3"
  },
  "language_info": {
   "codemirror_mode": {
    "name": "ipython",
    "version": 3
   },
   "file_extension": ".py",
   "mimetype": "text/x-python",
   "name": "python",
   "nbconvert_exporter": "python",
   "pygments_lexer": "ipython3",
   "version": "3.12.7"
  }
 },
 "nbformat": 4,
 "nbformat_minor": 2
}
