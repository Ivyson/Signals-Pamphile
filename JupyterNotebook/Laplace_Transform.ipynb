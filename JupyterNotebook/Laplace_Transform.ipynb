{
 "cells": [
  {
   "cell_type": "code",
   "execution_count": 28,
   "metadata": {},
   "outputs": [
    {
     "data": {
      "text/latex": [
       "$\\displaystyle \\frac{1}{C s \\left(L s + R\\right) + 1}$"
      ],
      "text/plain": [
       "1/(C*s*(L*s + R) + 1)"
      ]
     },
     "execution_count": 28,
     "metadata": {},
     "output_type": "execute_result"
    }
   ],
   "source": [
    "import sympy as sm\n",
    "s,I,i,t,C,L,R = sm.symbols('s I i t C L R')\n",
    "vin,vout, Vin, Vout = sm.symbols('vin vout Vin Vout')\n",
    "# Define the transfer function for the RLC circuit\n",
    "H = Vout / Vin\n",
    "\n",
    "# Define the impedance of each component\n",
    "Z_R = R\n",
    "Z_L = s * L\n",
    "Z_C = 1 / (s * C)\n",
    "\n",
    "# Total impedance of the series RLC circuit\n",
    "Z_total = Z_R + Z_L + Z_C\n",
    "\n",
    "# Voltage divider rule to find Vout\n",
    "H = Z_C / Z_total\n",
    "\n",
    "# Simplify the transfer function\n",
    "H_simplified = sm.simplify(H)\n",
    "H_simplified\n",
    "H_simplified"
   ]
  },
  {
   "cell_type": "code",
   "execution_count": null,
   "metadata": {},
   "outputs": [],
   "source": []
  },
  {
   "cell_type": "code",
   "execution_count": null,
   "metadata": {},
   "outputs": [],
   "source": []
  },
  {
   "cell_type": "code",
   "execution_count": null,
   "metadata": {},
   "outputs": [],
   "source": []
  },
  {
   "cell_type": "code",
   "execution_count": null,
   "metadata": {},
   "outputs": [],
   "source": []
  }
 ],
 "metadata": {
  "kernelspec": {
   "display_name": ".venv",
   "language": "python",
   "name": "python3"
  },
  "language_info": {
   "codemirror_mode": {
    "name": "ipython",
    "version": 3
   },
   "file_extension": ".py",
   "mimetype": "text/x-python",
   "name": "python",
   "nbconvert_exporter": "python",
   "pygments_lexer": "ipython3",
   "version": "3.12.7"
  }
 },
 "nbformat": 4,
 "nbformat_minor": 2
}
