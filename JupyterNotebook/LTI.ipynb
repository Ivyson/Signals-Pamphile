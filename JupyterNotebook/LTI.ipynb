{
 "cells": [
  {
   "cell_type": "code",
   "execution_count": 27,
   "metadata": {},
   "outputs": [
    {
     "data": {
      "text/latex": [
       "$\\displaystyle H{\\left(s \\right)} = \\frac{\\frac{1}{s^{2}} - \\frac{e^{- 3 s}}{s^{2}} - \\frac{e^{- 5 s}}{s^{2}} + \\frac{e^{- 8 s}}{s^{2}}}{\\frac{2}{s} - \\frac{e^{- 3 s}}{s} - \\frac{e^{- 5 s}}{s}}$"
      ],
      "text/plain": [
       "Eq(H(s), (s**(-2) - exp(-3*s)/s**2 - exp(-5*s)/s**2 + exp(-8*s)/s**2)/(2/s - exp(-3*s)/s - exp(-5*s)/s))"
      ]
     },
     "metadata": {},
     "output_type": "display_data"
    },
    {
     "data": {
      "text/latex": [
       "$\\displaystyle h{\\left(t \\right)} = \\mathcal{L}^{-1}_{s}\\left[\\frac{1}{s \\left(2 - e^{- 3 s} - e^{- 5 s}\\right)}\\right]\\left(t\\right) + \\mathcal{L}^{-1}_{s}\\left[\\frac{1}{s \\left(2 - e^{- 3 s} - e^{- 5 s}\\right)}\\right]\\left(t - 8\\right) - \\mathcal{L}^{-1}_{s}\\left[\\frac{1}{s \\left(2 - e^{- 3 s} - e^{- 5 s}\\right)}\\right]\\left(t - 5\\right) - \\mathcal{L}^{-1}_{s}\\left[\\frac{1}{s \\left(2 - e^{- 3 s} - e^{- 5 s}\\right)}\\right]\\left(t - 3\\right)$"
      ],
      "text/plain": [
       "Eq(h(t), InverseLaplaceTransform(1/(s*(2 - exp(-3*s) - exp(-5*s))), s, t, _None) + InverseLaplaceTransform(1/(s*(2 - exp(-3*s) - exp(-5*s))), s, t - 8, _None) - InverseLaplaceTransform(1/(s*(2 - exp(-3*s) - exp(-5*s))), s, t - 5, _None) - InverseLaplaceTransform(1/(s*(2 - exp(-3*s) - exp(-5*s))), s, t - 3, _None))"
      ]
     },
     "metadata": {},
     "output_type": "display_data"
    },
    {
     "data": {
      "text/latex": [
       "$\\displaystyle X_{2}{\\left(s \\right)} = \\frac{6 e^{- 2 s}}{s} - \\frac{3 e^{- 5 s}}{s} - \\frac{3 e^{- 7 s}}{s}$"
      ],
      "text/plain": [
       "Eq(X_2(s), 6*exp(-2*s)/s - 3*exp(-5*s)/s - 3*exp(-7*s)/s)"
      ]
     },
     "metadata": {},
     "output_type": "display_data"
    },
    {
     "data": {
      "text/latex": [
       "$\\displaystyle Y_{2}{\\left(s \\right)} = \\frac{\\left(\\frac{6 e^{- 2 s}}{s} - \\frac{3 e^{- 5 s}}{s} - \\frac{3 e^{- 7 s}}{s}\\right) \\left(\\frac{1}{s^{2}} - \\frac{e^{- 3 s}}{s^{2}} - \\frac{e^{- 5 s}}{s^{2}} + \\frac{e^{- 8 s}}{s^{2}}\\right)}{\\frac{2}{s} - \\frac{e^{- 3 s}}{s} - \\frac{e^{- 5 s}}{s}}$"
      ],
      "text/plain": [
       "Eq(Y_2(s), (6*exp(-2*s)/s - 3*exp(-5*s)/s - 3*exp(-7*s)/s)*(s**(-2) - exp(-3*s)/s**2 - exp(-5*s)/s**2 + exp(-8*s)/s**2)/(2/s - exp(-3*s)/s - exp(-5*s)/s))"
      ]
     },
     "metadata": {},
     "output_type": "display_data"
    },
    {
     "data": {
      "text/latex": [
       "$\\displaystyle y_{2}{\\left(t \\right)} = 3 \\left(t - 10\\right) \\theta\\left(t - 10\\right) - 3 \\left(t - 7\\right) \\theta\\left(t - 7\\right) - 3 \\left(t - 5\\right) \\theta\\left(t - 5\\right) + 3 \\left(t - 2\\right) \\theta\\left(t - 2\\right)$"
      ],
      "text/plain": [
       "Eq(y_2(t), 3*(t - 10)*Heaviside(t - 10) - 3*(t - 7)*Heaviside(t - 7) - 3*(t - 5)*Heaviside(t - 5) + 3*(t - 2)*Heaviside(t - 2))"
      ]
     },
     "metadata": {},
     "output_type": "display_data"
    },
    {
     "data": {
      "text/latex": [
       "$\\displaystyle 6$"
      ],
      "text/plain": [
       "6"
      ]
     },
     "execution_count": 27,
     "metadata": {},
     "output_type": "execute_result"
    }
   ],
   "source": [
    "import sympy as sp\n",
    "\n",
    "# Define the symbolic variable\n",
    "t ,s= sp.symbols('t s')\n",
    "\n",
    "# Define the step function\n",
    "u = sp.Heaviside\n",
    "\n",
    "# Given input and output\n",
    "x1 = 2*u(t) - u(t-3) - u(t-5)\n",
    "y1 = t*u(t) - (t-3)*u(t-3) - (t-5)*u(t-5) + (t-8)*u(t-8)\n",
    "Y1 = sp.laplace_transform(y1, t, s)\n",
    "X1 = sp.laplace_transform(x1, t, s)\n",
    "# Find the impulse response h(t)\n",
    "display(sp.Eq(sp.Function('H')(s),Y1[0]/X1[0]))\n",
    "H = Y1[0]/X1[0]\n",
    "h = sp.inverse_laplace_transform(H, s, t)\n",
    "display(sp.Eq(sp.Function('h')(t),h))\n",
    "# New input\n",
    "x2 = 6*u(t-2) - 3*u(t-5) - 3*u(t-7)\n",
    "X2 = sp.laplace_transform(x2, t, s)\n",
    "display(sp.Eq(sp.Function('X_2')(s),X2[0]))\n",
    "Y2 = H*X2[0]\n",
    "# Y2\n",
    "display(sp.Eq(sp.Function('Y_2')(s),Y2)) \n",
    "y2 = sp.inverse_laplace_transform(Y2, s, t)\n",
    "display(sp.Eq(sp.Function('y_2')(t),y2)) \n",
    "y2.subs(t,8)"
   ]
  },
  {
   "cell_type": "markdown",
   "metadata": {},
   "source": [
    "git config --global user.name \"82Sam\"\n",
    "git config --global user.email \"Ivykiid@gmail.com\""
   ]
  }
 ],
 "metadata": {
  "kernelspec": {
   "display_name": ".venv",
   "language": "python",
   "name": "python3"
  },
  "language_info": {
   "codemirror_mode": {
    "name": "ipython",
    "version": 3
   },
   "file_extension": ".py",
   "mimetype": "text/x-python",
   "name": "python",
   "nbconvert_exporter": "python",
   "pygments_lexer": "ipython3",
   "version": "3.12.7"
  }
 },
 "nbformat": 4,
 "nbformat_minor": 2
}
