{
 "cells": [
  {
   "cell_type": "markdown",
   "metadata": {},
   "source": []
  },
  {
   "cell_type": "code",
   "execution_count": null,
   "metadata": {
    "vscode": {
     "languageId": "plaintext"
    }
   },
   "outputs": [],
   "source": [
    "# Fourier angular frequency in rad/s (from f = 2.7 Hz)\n",
    "omega_fourier = 2 * math.pi * fourier_frequency  # ω_fourier = 2πf\n",
    "\n",
    "# Step 1: Re-calculate sinc arguments using angular frequencies\n",
    "arg1_omega = (omega_fourier - omega) * T / (2 * math.pi)  # sinc argument with (ω_fourier - ω_mod)\n",
    "arg2_omega = (omega_fourier + omega) * T / (2 * math.pi)  # sinc argument with (ω_fourier + ω_mod)\n",
    "\n",
    "# Calculate sinc terms with updated arguments\n",
    "sinc_arg1_omega = math.sin(math.pi * arg1_omega) / (math.pi * arg1_omega)\n",
    "sinc_arg2_omega = math.sin(math.pi * arg2_omega) / (math.pi * arg2_omega)\n",
    "\n",
    "# Recalculate the final result with angular frequency terms\n",
    "result_omega = amplitude_term * (sinc_arg1_omega + sinc_arg2_omega)\n",
    "result_omega\n"
   ]
  }
 ],
 "metadata": {
  "language_info": {
   "name": "python"
  }
 },
 "nbformat": 4,
 "nbformat_minor": 2
}
