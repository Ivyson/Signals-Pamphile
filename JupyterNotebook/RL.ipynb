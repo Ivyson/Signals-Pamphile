{
 "cells": [
  {
   "cell_type": "markdown",
   "metadata": {},
   "source": [
    "![alt text](RL.png)"
   ]
  },
  {
   "cell_type": "code",
   "execution_count": 17,
   "metadata": {},
   "outputs": [],
   "source": [
    "import sympy as sm\n",
    "s,t,L ,C, R = sm.symbols('s t L C R')\n",
    "# R ,L = 37, 21\n",
    "# H = R/(s*L +R)\n",
    "# display(sm.Eq(sm.Function('H')(s),H))"
   ]
  },
  {
   "cell_type": "code",
   "execution_count": 27,
   "metadata": {},
   "outputs": [
    {
     "data": {
      "text/plain": [
       "'The Transfer Function of an RLC circuit'"
      ]
     },
     "metadata": {},
     "output_type": "display_data"
    },
    {
     "data": {
      "text/latex": [
       "$\\displaystyle H_{RLC}{\\left(s \\right)} = \\frac{1}{C L s^{2} + C R s + 1}$"
      ],
      "text/plain": [
       "Eq(H_RLC(s), 1/(C*L*s**2 + C*R*s + 1))"
      ]
     },
     "metadata": {},
     "output_type": "display_data"
    }
   ],
   "source": [
    "# # Transfer function for an RLC circuit: H = 1 / (L*C*s**2 + R*C*s + 1)\n",
    "# C = 10  # Example value for capacitance\n",
    "\n",
    "\n",
    "# display(sm.Eq(sm.Function('H')(s), H_RLC))\n",
    "# # Laplace transform of the unit step function u(t) is 1/s\n",
    "# U_s = 1 / s\n",
    "\n",
    "# # Output function in Laplace domain\n",
    "# # Y_s = H_RLC * U_s\n",
    "\n",
    "# # Inverse Laplace transform to get the output function in time domain\n",
    "# y_t = sm.inverse_laplace_transform(Y_s, s, t)\n",
    "# display(sm.Function('y')(t), y_t)\n",
    "# (y_t.subs(t, 1.5)).evalf()\n",
    "# Transfer Function of RLC\n",
    "H = 1 / (L*C*s**2 + R*C*s + 1)\n",
    "display('The Transfer Function of an RLC circuit')\n",
    "display(sm.Eq(sm.Function('H_RLC')(s),H))\n",
    "# Vin = H*(1/s)\n",
    "# vin = sm.inverse_laplace_transform(Vin, s,t)\n",
    "# vin = vin.subs(C, 1)\n",
    "# vin = vin.subs(L, 1)\n",
    "# vin = vin.subs(R, 0.3)\n",
    "# vin.subs(t, 1.5)"
   ]
  },
  {
   "cell_type": "code",
   "execution_count": null,
   "metadata": {},
   "outputs": [],
   "source": []
  },
  {
   "cell_type": "code",
   "execution_count": 13,
   "metadata": {},
   "outputs": [
    {
     "data": {
      "text/latex": [
       "$\\displaystyle h{\\left(t \\right)}$"
      ],
      "text/plain": [
       "h(t)"
      ]
     },
     "metadata": {},
     "output_type": "display_data"
    },
    {
     "data": {
      "text/latex": [
       "$\\displaystyle \\frac{37 e^{- \\frac{37 t}{21}} \\theta\\left(t\\right)}{21}$"
      ],
      "text/plain": [
       "37*exp(-37*t/21)*Heaviside(t)/21"
      ]
     },
     "metadata": {},
     "output_type": "display_data"
    }
   ],
   "source": [
    "\n",
    "INV = sm.inverse_laplace_transform(H,s,t)\n",
    "display(sm.Function('h')(t),INV)"
   ]
  },
  {
   "cell_type": "code",
   "execution_count": 14,
   "metadata": {},
   "outputs": [
    {
     "data": {
      "text/latex": [
       "$\\displaystyle 0.0881387836103769$"
      ],
      "text/plain": [
       "0.0881387836103769"
      ]
     },
     "metadata": {},
     "output_type": "display_data"
    }
   ],
   "source": [
    "answer = INV.subs(t, 1.7)\n",
    "display(answer)"
   ]
  }
 ],
 "metadata": {
  "kernelspec": {
   "display_name": ".venv",
   "language": "python",
   "name": "python3"
  },
  "language_info": {
   "codemirror_mode": {
    "name": "ipython",
    "version": 3
   },
   "file_extension": ".py",
   "mimetype": "text/x-python",
   "name": "python",
   "nbconvert_exporter": "python",
   "pygments_lexer": "ipython3",
   "version": "3.12.7"
  }
 },
 "nbformat": 4,
 "nbformat_minor": 2
}
