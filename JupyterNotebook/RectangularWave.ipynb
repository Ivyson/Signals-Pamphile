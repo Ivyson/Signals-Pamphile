{
 "cells": [
  {
   "cell_type": "markdown",
   "metadata": {},
   "source": [
    "![](RectangularWave.png)"
   ]
  },
  {
   "cell_type": "code",
   "execution_count": 35,
   "metadata": {},
   "outputs": [
    {
     "data": {
      "text/latex": [
       "$\\displaystyle \\frac{\\begin{cases} - \\frac{i T_{0} x e^{\\frac{2 i \\pi k p}{T_{0}}}}{2 \\pi k} + \\frac{i T_{0} x e^{- \\frac{2 i \\pi k p}{T_{0}}}}{2 \\pi k} & \\text{for}\\: k > -\\infty \\wedge k < \\infty \\wedge k \\neq 0 \\\\2 p x & \\text{otherwise} \\end{cases}}{T_{0}}$"
      ],
      "text/plain": [
       "Piecewise((-I*T_0*x*exp(2*I*pi*k*p/T_0)/(2*pi*k) + I*T_0*x*exp(-2*I*pi*k*p/T_0)/(2*pi*k), (k > -oo) & (k < oo) & Ne(k, 0)), (2*p*x, True))/T_0"
      ]
     },
     "execution_count": 35,
     "metadata": {},
     "output_type": "execute_result"
    }
   ],
   "source": [
    "import sympy as sm\n",
    "A, T ,T_0, n, x = sm.symbols('A T T_0 n x ')\n",
    "t, k, p = sm.symbols('t k p')\n",
    "C_n = (1/T_0)*sm.integrate(x*sm.exp(-sm.I*2*sm.pi*k*(1/T_0)*t),(t, -p, p))\n",
    "C_n"
   ]
  },
  {
   "cell_type": "code",
   "execution_count": 36,
   "metadata": {},
   "outputs": [],
   "source": [
    "t = sm.symbols('t')\n",
    "f_0 = 1/84\n",
    "x = 150\n",
    "k = 8\n",
    "T_0 = 84\n",
    "a_k = (1/T_0)*sm.integrate(x*sm.exp(-sm.I*2*sm.pi*f_0*k*t),(t, -10,10))"
   ]
  },
  {
   "cell_type": "code",
   "execution_count": 37,
   "metadata": {},
   "outputs": [
    {
     "data": {
      "text/latex": [
       "$\\displaystyle -1.75919036285284 + 3.0 \\cdot 10^{-20} i$"
      ],
      "text/plain": [
       "-1.75919036285284 + 0.e-20*I"
      ]
     },
     "execution_count": 37,
     "metadata": {},
     "output_type": "execute_result"
    }
   ],
   "source": [
    "sm.simplify(a_k.evalf())"
   ]
  },
  {
   "cell_type": "code",
   "execution_count": 32,
   "metadata": {},
   "outputs": [],
   "source": [
    "l = (150/2)*sm.exp(-sm.I*8*sm.pi/2)*sm.sin(8*sm.pi/2)/(8*sm.pi/2)"
   ]
  },
  {
   "cell_type": "code",
   "execution_count": 33,
   "metadata": {},
   "outputs": [
    {
     "data": {
      "text/latex": [
       "$\\displaystyle 0$"
      ],
      "text/plain": [
       "0"
      ]
     },
     "execution_count": 33,
     "metadata": {},
     "output_type": "execute_result"
    }
   ],
   "source": [
    "l"
   ]
  }
 ],
 "metadata": {
  "kernelspec": {
   "display_name": ".venv",
   "language": "python",
   "name": "python3"
  },
  "language_info": {
   "codemirror_mode": {
    "name": "ipython",
    "version": 3
   },
   "file_extension": ".py",
   "mimetype": "text/x-python",
   "name": "python",
   "nbconvert_exporter": "python",
   "pygments_lexer": "ipython3",
   "version": "3.12.7"
  }
 },
 "nbformat": 4,
 "nbformat_minor": 2
}
