{
 "cells": [
  {
   "cell_type": "markdown",
   "metadata": {},
   "source": [
    "![alt text](Transfer.png)"
   ]
  },
  {
   "cell_type": "code",
   "execution_count": 9,
   "metadata": {},
   "outputs": [
    {
     "data": {
      "text/latex": [
       "$\\displaystyle V_{out}{\\left(s \\right)} = \\frac{1}{s \\left(s + 0.2\\right)^{2}}$"
      ],
      "text/plain": [
       "Eq(V_out(s), 1/(s*(s + 0.2)**2))"
      ]
     },
     "metadata": {},
     "output_type": "display_data"
    }
   ],
   "source": [
    "import sympy as sm\n",
    "s,t = sm.symbols('s t')\n",
    "u = sm.Heaviside\n",
    "H = 1/(s*(s+0.2)**2)\n",
    "display(sm.Eq(sm.Function('V_out')(s),H))"
   ]
  },
  {
   "cell_type": "code",
   "execution_count": 10,
   "metadata": {},
   "outputs": [
    {
     "data": {
      "text/latex": [
       "$\\displaystyle v_{out}{\\left(t \\right)} = - 5.0 t e^{- 0.2 t} \\theta\\left(t\\right) + 25.0 \\theta\\left(t\\right) - 25.0 e^{- 0.2 t} \\theta\\left(t\\right)$"
      ],
      "text/plain": [
       "Eq(v_out(t), -5.0*t*exp(-0.2*t)*Heaviside(t) + 25.0*Heaviside(t) - 25.0*exp(-0.2*t)*Heaviside(t))"
      ]
     },
     "metadata": {},
     "output_type": "display_data"
    }
   ],
   "source": [
    "vout = sm.inverse_laplace_transform(H, s, t)\n",
    "display(sm.Eq(sm.Function('v_out')(t),vout))"
   ]
  },
  {
   "cell_type": "code",
   "execution_count": 11,
   "metadata": {},
   "outputs": [
    {
     "data": {
      "text/latex": [
       "$\\displaystyle 20.8486271195074$"
      ],
      "text/plain": [
       "20.8486271195074"
      ]
     },
     "metadata": {},
     "output_type": "display_data"
    }
   ],
   "source": [
    "answer = vout.subs(t, 16.2)\n",
    "display(answer)"
   ]
  }
 ],
 "metadata": {
  "kernelspec": {
   "display_name": "venv",
   "language": "python",
   "name": "python3"
  },
  "language_info": {
   "codemirror_mode": {
    "name": "ipython",
    "version": 3
   },
   "file_extension": ".py",
   "mimetype": "text/x-python",
   "name": "python",
   "nbconvert_exporter": "python",
   "pygments_lexer": "ipython3",
   "version": "3.12.6"
  }
 },
 "nbformat": 4,
 "nbformat_minor": 2
}
