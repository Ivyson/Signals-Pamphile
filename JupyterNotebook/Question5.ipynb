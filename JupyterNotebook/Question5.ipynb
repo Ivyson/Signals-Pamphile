{
 "cells": [
  {
   "cell_type": "code",
   "execution_count": 6,
   "metadata": {},
   "outputs": [
    {
     "name": "stdout",
     "output_type": "stream",
     "text": [
      "The value of C_0 is: 21.0000000000000\n"
     ]
    }
   ],
   "source": [
    "from sympy import symbols, integrate, Piecewise, oo, plot\n",
    "t = symbols('t')  \n",
    "T = 16          \n",
    "C = 4           \n",
    "D = 12          \n",
    "\n",
    "f = Piecewise(\n",
    "    (36, (-C <= t) & (t <= C)), \n",
    "    (6, (t > C) & (t < D)),  \n",
    "    (0, True)                   \n",
    ")\n",
    "C_0 = (1 / T) * integrate(f, (t, -4, 12))\n",
    "print(f\"The value of C_0 is: {C_0}\")\n"
   ]
  }
 ],
 "metadata": {
  "kernelspec": {
   "display_name": "venv",
   "language": "python",
   "name": "python3"
  },
  "language_info": {
   "codemirror_mode": {
    "name": "ipython",
    "version": 3
   },
   "file_extension": ".py",
   "mimetype": "text/x-python",
   "name": "python",
   "nbconvert_exporter": "python",
   "pygments_lexer": "ipython3",
   "version": "3.13.0"
  }
 },
 "nbformat": 4,
 "nbformat_minor": 2
}
