{
 "cells": [
  {
   "cell_type": "markdown",
   "metadata": {},
   "source": [
    "![alt text](Q1.png)"
   ]
  },
  {
   "cell_type": "code",
   "execution_count": 17,
   "metadata": {},
   "outputs": [],
   "source": [
    "# Prepare all my Imports\n",
    "import sympy as sm\n",
    "from IPython.display import display\n",
    "# Important Equations\n",
    "t,omega = sm.Symbol('t'), sm.Symbol('omega')\n",
    "u = sm.Heaviside\n",
    "y = 100*t*sm.exp(-0.4*t)*u(t)"
   ]
  },
  {
   "cell_type": "code",
   "execution_count": 18,
   "metadata": {},
   "outputs": [
    {
     "data": {
      "text/plain": [
       "'Determine the magnitude of the Fourier Transform Frequency Spectrum of the signal f(100*t*exp(-0.4*t)*Heaviside(t)), 100*t*exp(-0.4*t)*Heaviside(t) at a frequency 1.69Hz. Round Your Answer to 3 decimal places'"
      ]
     },
     "metadata": {},
     "output_type": "display_data"
    },
    {
     "data": {
      "text/plain": [
       "t"
      ]
     },
     "metadata": {},
     "output_type": "display_data"
    },
    {
     "data": {
      "text/latex": [
       "$\\displaystyle 100 t e^{- 0.4 t} \\theta\\left(t\\right)$"
      ],
      "text/plain": [
       "100*t*exp(-0.4*t)*Heaviside(t)"
      ]
     },
     "metadata": {},
     "output_type": "display_data"
    }
   ],
   "source": [
    "display(f\"Determine the magnitude of the Fourier Transform Frequency Spectrum of the signal {sm.Function('f')(y)}, {y} at a frequency 1.69Hz. Round Your Answer to 3 decimal places\")\n",
    "display(sm.Function(t),y)"
   ]
  },
  {
   "cell_type": "code",
   "execution_count": 19,
   "metadata": {},
   "outputs": [
    {
     "data": {
      "text/plain": [
       "omega"
      ]
     },
     "metadata": {},
     "output_type": "display_data"
    },
    {
     "data": {
      "text/latex": [
       "$\\displaystyle \\frac{25.0}{\\left(i \\pi \\omega + 0.2\\right)^{2}}$"
      ],
      "text/plain": [
       "25.0/(I*pi*omega + 0.2)**2"
      ]
     },
     "metadata": {},
     "output_type": "display_data"
    }
   ],
   "source": [
    "Y = sm.fourier_transform(y,t,omega)\n",
    "display(sm.Function(omega),Y)"
   ]
  },
  {
   "cell_type": "code",
   "execution_count": 21,
   "metadata": {},
   "outputs": [
    {
     "data": {
      "text/plain": [
       "omega"
      ]
     },
     "metadata": {},
     "output_type": "display_data"
    },
    {
     "data": {
      "text/latex": [
       "$\\displaystyle \\frac{25.0}{0.04 + 2.8561 \\pi^{2}}$"
      ],
      "text/plain": [
       "25.0/(0.04 + 2.8561*pi**2)"
      ]
     },
     "metadata": {},
     "output_type": "display_data"
    }
   ],
   "source": [
    "# At omega = 1.69\n",
    "point = sm.Abs(Y.subs(omega,1.69))\n",
    "display(sm.Function(omega),point)"
   ]
  }
 ],
 "metadata": {
  "kernelspec": {
   "display_name": "venv",
   "language": "python",
   "name": "python3"
  },
  "language_info": {
   "codemirror_mode": {
    "name": "ipython",
    "version": 3
   },
   "file_extension": ".py",
   "mimetype": "text/x-python",
   "name": "python",
   "nbconvert_exporter": "python",
   "pygments_lexer": "ipython3",
   "version": "3.12.6"
  }
 },
 "nbformat": 4,
 "nbformat_minor": 2
}
