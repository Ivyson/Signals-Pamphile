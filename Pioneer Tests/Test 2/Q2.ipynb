{
 "cells": [
  {
   "cell_type": "markdown",
   "metadata": {},
   "source": [
    "![](Q2.png)"
   ]
  },
  {
   "cell_type": "code",
   "execution_count": 10,
   "metadata": {},
   "outputs": [
    {
     "data": {
      "text/latex": [
       "$\\displaystyle H{\\left(\\omega \\right)} = \\begin{cases} 46.8 & \\text{for}\\: \\omega = - \\frac{5}{4} \\vee \\omega = \\frac{5}{4} \\\\\\frac{1560 \\cos{\\left(1.2 \\pi \\omega \\right)}}{\\pi \\left(16 \\omega^{2} - 25\\right)} & \\text{otherwise} \\end{cases}$"
      ],
      "text/plain": [
       "Eq(H(omega), Piecewise((46.8, Eq(omega, -5/4) | Eq(omega, 5/4)), (1560*cos(1.2*pi*omega)/(pi*(16*omega**2 - 25)), True)))"
      ]
     },
     "metadata": {},
     "output_type": "display_data"
    },
    {
     "data": {
      "text/latex": [
       "$\\displaystyle 3.95001261991116$"
      ],
      "text/plain": [
       "3.95001261991116"
      ]
     },
     "execution_count": 10,
     "metadata": {},
     "output_type": "execute_result"
    }
   ],
   "source": [
    "import sympy as sm\n",
    "t, omega = sm.symbols('t omega')\n",
    "x = sm.Piecewise(((78*sm.cos(2.5*sm.pi*t)), (t > -0.6) & (t < 0.6)), (0, True))\n",
    "# sm.plot(x, (t, -2, 2))\n",
    "y = sm.fourier_transform(x, t, omega)\n",
    "absolute = sm.Abs(y)\n",
    "display(sm.Eq(sm.Function(\"H\")(omega),y))\n",
    "result = absolute.subs(omega, 2.7)\n",
    "result.evalf()"
   ]
  },
  {
   "cell_type": "code",
   "execution_count": 11,
   "metadata": {},
   "outputs": [
    {
     "data": {
      "text/plain": [
       "-3.950012619911162"
      ]
     },
     "execution_count": 11,
     "metadata": {},
     "output_type": "execute_result"
    }
   ],
   "source": [
    "import math\n",
    "\n",
    "# Given values\n",
    "A = 78\n",
    "T = 1.2\n",
    "omega = 2.5 * math.pi\n",
    "fourier_frequency = 2.7  # in Hz\n",
    "\n",
    "# Step 1: Calculate f_0 from omega\n",
    "f0 = omega / (2 * math.pi)\n",
    "\n",
    "# Step 2: Calculate the amplitude term\n",
    "amplitude_term = (A * T) / 2\n",
    "# Calculate the arguments for the sinc functions\n",
    "arg1 = (fourier_frequency - f0) * T\n",
    "arg2 = (fourier_frequency + f0) * T\n",
    "\n",
    "# Step 4: Calculate the sinc functions\n",
    "# sinc(x) = sin(pi * x) / (pi * x)\n",
    "sinc_arg1 = math.sin(math.pi * arg1) / (math.pi * arg1)\n",
    "sinc_arg2 = math.sin(math.pi * arg2) / (math.pi * arg2)\n",
    "\n",
    "result = amplitude_term * (sinc_arg1 + sinc_arg2)\n",
    "result\n"
   ]
  }
 ],
 "metadata": {
  "kernelspec": {
   "display_name": ".venv",
   "language": "python",
   "name": "python3"
  },
  "language_info": {
   "codemirror_mode": {
    "name": "ipython",
    "version": 3
   },
   "file_extension": ".py",
   "mimetype": "text/x-python",
   "name": "python",
   "nbconvert_exporter": "python",
   "pygments_lexer": "ipython3",
   "version": "3.12.7"
  }
 },
 "nbformat": 4,
 "nbformat_minor": 2
}
