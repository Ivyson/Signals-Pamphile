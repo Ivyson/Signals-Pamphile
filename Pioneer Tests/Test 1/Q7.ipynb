{
 "cells": [
  {
   "cell_type": "markdown",
   "metadata": {},
   "source": [
    "![](Q7.png)"
   ]
  },
  {
   "cell_type": "code",
   "execution_count": 25,
   "metadata": {},
   "outputs": [
    {
     "name": "stdout",
     "output_type": "stream",
     "text": [
      "[-10  -9  -8  -7  -6  -5  -4  -3  -2  -1   0   1   2   3   4   5   6   7\n",
      "   8   9]\n",
      "[ 0  0  0  0  0 -1 -1 -1  0  1  2  3  3  1  1  0  0  0  0]\n",
      "(array([ 8,  9, 10, 11, 12]),)\n",
      "The sum is : 5.0\n"
     ]
    }
   ],
   "source": [
    "# When dealing with Discrete Function, Numpy is a go-to guy..\n",
    "import numpy as np\n",
    "\n",
    "# Create the n axis- > Discrete time stamps\n",
    "n = np.arange(-10, 10)\n",
    "\n",
    "\n",
    "# Create the corresponding y values\n",
    "x = np.array([00, 0, 0, 0, 0, -1, -1, -1, 0, 1, 2, 3, 3, 1, 1, 0, 0, 0, 0])\n",
    "print(n)\n",
    "print(x)\n",
    "\n",
    "xeven = 0.5 * (x + x[::-1])  # The x[::-1] -> Does a time reversal\n",
    "\n",
    "# # The sums that we want\n",
    "values = np.where((n >= -2) & (n <= 2))\n",
    "print(values)\n",
    "\n",
    "sum_even = xeven[values].sum()\n",
    "print(f'The sum is : {sum_even}')\n"
   ]
  }
 ],
 "metadata": {
  "kernelspec": {
   "display_name": ".venv",
   "language": "python",
   "name": "python3"
  },
  "language_info": {
   "codemirror_mode": {
    "name": "ipython",
    "version": 3
   },
   "file_extension": ".py",
   "mimetype": "text/x-python",
   "name": "python",
   "nbconvert_exporter": "python",
   "pygments_lexer": "ipython3",
   "version": "3.12.7"
  }
 },
 "nbformat": 4,
 "nbformat_minor": 2
}
