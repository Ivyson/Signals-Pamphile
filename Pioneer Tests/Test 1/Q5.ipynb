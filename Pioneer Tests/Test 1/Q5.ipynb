{
 "cells": [
  {
   "cell_type": "markdown",
   "metadata": {},
   "source": [
    "![alt text](Q5A.png)\n",
    "![alt text](Q5B.png)"
   ]
  },
  {
   "cell_type": "code",
   "execution_count": null,
   "metadata": {},
   "outputs": [
    {
     "name": "stdout",
     "output_type": "stream",
     "text": [
      "[  0   0   0   0   0  -2  -7 -11 -10  -5   1   7  11  14  15  11   5   1\n",
      "   0   0   0]\n"
     ]
    }
   ],
   "source": [
    "# Discrete is dating numpy\n",
    "import numpy as np\n",
    "# Define the first array\n",
    "x = np.array([0, 0, -1, -2, -2, -1, 0, 1, 2, 2, 3, 2, 1, 0, 0])\n",
    "h = np.array([0, 0, 0, 2, 3, 1, 0])\n",
    "\"\"\"\n",
    "The returned array lowest index == -7 -1 = -8\n",
    "returned length = len(x) + len(h) - 1 = 15+7 -1 = 21\n",
    "\"\"\"\n",
    "y = np.convolve(x,h, mode = 'full')\n",
    "print(y)"
   ]
  }
 ],
 "metadata": {
  "kernelspec": {
   "display_name": ".venv",
   "language": "python",
   "name": "python3"
  },
  "language_info": {
   "codemirror_mode": {
    "name": "ipython",
    "version": 3
   },
   "file_extension": ".py",
   "mimetype": "text/x-python",
   "name": "python",
   "nbconvert_exporter": "python",
   "pygments_lexer": "ipython3",
   "version": "3.12.7"
  }
 },
 "nbformat": 4,
 "nbformat_minor": 2
}
