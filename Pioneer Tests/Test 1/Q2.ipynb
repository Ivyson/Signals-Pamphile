{
 "cells": [
  {
   "cell_type": "markdown",
   "metadata": {},
   "source": [
    "![alt text](Q2.png)"
   ]
  },
  {
   "cell_type": "code",
   "execution_count": 8,
   "metadata": {},
   "outputs": [
    {
     "name": "stdout",
     "output_type": "stream",
     "text": [
      "[-3  0  3  3  3  9  6  3  0  0  0  0  0  0  0  0  0  0 -6 -6]\n",
      "[ 0  0  0  0  0  1  2  3  1  1  1  0 -1 -2 -2  0  0  0  0  0]\n",
      "The sum is 24 \n"
     ]
    }
   ],
   "source": [
    "# Discrete is dating numpy\n",
    "import numpy as np\n",
    "n = np.arange(-10, 10)\n",
    "x = np.array([0, 0, 0, 0, 0, 1, 2, 3, 1, 1, 1, 0, -1, -2, -2, 0, 0, 0, 0, 0])\n",
    "y = 3*x[2-n]\n",
    "print(y)\n",
    "print(x)\n",
    "print(f\"The sum is {y[2]+y[3]+y[4]+y[5]+y[6]} \")"
   ]
  },
  {
   "cell_type": "markdown",
   "metadata": {},
   "source": [
    "![alt text](Q2.png)"
   ]
  }
 ],
 "metadata": {
  "kernelspec": {
   "display_name": ".venv",
   "language": "python",
   "name": "python3"
  },
  "language_info": {
   "codemirror_mode": {
    "name": "ipython",
    "version": 3
   },
   "file_extension": ".py",
   "mimetype": "text/x-python",
   "name": "python",
   "nbconvert_exporter": "python",
   "pygments_lexer": "ipython3",
   "version": "3.12.7"
  }
 },
 "nbformat": 4,
 "nbformat_minor": 2
}
