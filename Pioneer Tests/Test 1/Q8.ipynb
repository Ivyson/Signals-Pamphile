{
 "cells": [
  {
   "cell_type": "markdown",
   "metadata": {},
   "source": [
    "![alt text](Q8.png)\n"
   ]
  },
  {
   "cell_type": "code",
   "execution_count": 11,
   "metadata": {},
   "outputs": [
    {
     "data": {
      "text/latex": [
       "$\\displaystyle -3.0$"
      ],
      "text/plain": [
       "-3.00000000000000"
      ]
     },
     "execution_count": 11,
     "metadata": {},
     "output_type": "execute_result"
    }
   ],
   "source": [
    "import sympy as sm\n",
    "t = sm.symbols('t')\n",
    "u = sm.Heaviside\n",
    "x = sm.Piecewise(\n",
    "    ((t + 6), (t >= -6) & (t < -3)),\n",
    "    (3, (t >= -3) & (t < -2)),\n",
    "    ((-t + 1), (t >= -2) & (t < 0)),\n",
    "    (1, (t >= 0) & (t < 3)),\n",
    "    ((-t + 4), (t >= 3) & (t < 4)),\n",
    "    (0, True)\n",
    ")\n",
    "# sm.plot(x, (t, -7, 7))\n",
    "xodd = 0.5*(x - x.subs(t, -t))\n",
    "y = sm.integrate(xodd, (t, 2, 6))\n",
    "y"
   ]
  }
 ],
 "metadata": {
  "kernelspec": {
   "display_name": ".venv",
   "language": "python",
   "name": "python3"
  },
  "language_info": {
   "codemirror_mode": {
    "name": "ipython",
    "version": 3
   },
   "file_extension": ".py",
   "mimetype": "text/x-python",
   "name": "python",
   "nbconvert_exporter": "python",
   "pygments_lexer": "ipython3",
   "version": "3.12.7"
  }
 },
 "nbformat": 4,
 "nbformat_minor": 2
}
