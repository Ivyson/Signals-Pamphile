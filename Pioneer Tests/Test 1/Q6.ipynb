{
 "cells": [
  {
   "cell_type": "markdown",
   "metadata": {},
   "source": [
    "![](Q6.png)"
   ]
  },
  {
   "cell_type": "code",
   "execution_count": 1,
   "metadata": {},
   "outputs": [
    {
     "name": "stdout",
     "output_type": "stream",
     "text": [
      "5.625\n"
     ]
    }
   ],
   "source": [
    "\"\"\"\n",
    "y[n] = x[n] +a*y[n-1]\n",
    "x[n] = 3u[n] + 0.5*y[n-1]\n",
    "\"\"\"\n",
    "yn = 0\n",
    "a = 0.5\n",
    "for i in range(0, 4):\n",
    "    y = 3 + 0.5*yn\n",
    "    yn = y\n",
    "print(y)"
   ]
  }
 ],
 "metadata": {
  "kernelspec": {
   "display_name": ".venv",
   "language": "python",
   "name": "python3"
  },
  "language_info": {
   "codemirror_mode": {
    "name": "ipython",
    "version": 3
   },
   "file_extension": ".py",
   "mimetype": "text/x-python",
   "name": "python",
   "nbconvert_exporter": "python",
   "pygments_lexer": "ipython3",
   "version": "3.12.7"
  }
 },
 "nbformat": 4,
 "nbformat_minor": 2
}
