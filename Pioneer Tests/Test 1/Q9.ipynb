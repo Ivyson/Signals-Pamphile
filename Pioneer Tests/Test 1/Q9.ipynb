{
 "cells": [
  {
   "cell_type": "markdown",
   "metadata": {},
   "source": [
    "![alt text](Q9.png)"
   ]
  },
  {
   "cell_type": "code",
   "execution_count": 3,
   "metadata": {},
   "outputs": [
    {
     "data": {
      "text/latex": [
       "$\\displaystyle 6$"
      ],
      "text/plain": [
       "6"
      ]
     },
     "execution_count": 3,
     "metadata": {},
     "output_type": "execute_result"
    }
   ],
   "source": [
    "import sympy as sm\n",
    "t = sm.symbols('t')\n",
    "u = sm.Heaviside\n",
    "y1 = t*u(t)-(t-3)*u(t-3)-(t-5)*u(t-5)+(t-8)*u(t-8)\n",
    "x1 =2*u(t)-u(t-3)-u(t-5)\n",
    "x2 = 4*u(t-3)-2*u(t-6)-2*u(t-8)\n",
    "\n",
    "\"\"\"\n",
    "x2 = 2*u(t-3)\n",
    ": y2 = 2y1(t-3)\n",
    "\"\"\"\n",
    "y2 = 2*y1.subs(t, t-3)\n",
    "y2.subs(t, 6)"
   ]
  }
 ],
 "metadata": {
  "kernelspec": {
   "display_name": ".venv",
   "language": "python",
   "name": "python3"
  },
  "language_info": {
   "codemirror_mode": {
    "name": "ipython",
    "version": 3
   },
   "file_extension": ".py",
   "mimetype": "text/x-python",
   "name": "python",
   "nbconvert_exporter": "python",
   "pygments_lexer": "ipython3",
   "version": "3.12.7"
  }
 },
 "nbformat": 4,
 "nbformat_minor": 2
}
