{
 "cells": [
  {
   "cell_type": "markdown",
   "metadata": {},
   "source": [
    "![alt text](Q5.png)"
   ]
  },
  {
   "cell_type": "code",
   "execution_count": 7,
   "metadata": {},
   "outputs": [
    {
     "data": {
      "text/latex": [
       "$\\displaystyle 15.6175281218573$"
      ],
      "text/plain": [
       "15.6175281218573"
      ]
     },
     "execution_count": 7,
     "metadata": {},
     "output_type": "execute_result"
    }
   ],
   "source": [
    "import sympy as sm\n",
    " \n",
    "\n",
    "t = sm.symbols('t')\n",
    "# H(ω) = 1 / (1 + jωRC)\n",
    "omega = 2*sm.pi*1.2e3\n",
    "R = 20\n",
    "C = 13.3e-6\n",
    "j = sm.I\n",
    "# Vout = Vin/(1 + jωRC)\n",
    "Vout = 35/(1+j*omega*R*C)\n",
    "sm.Abs(Vout).evalf()"
   ]
  }
 ],
 "metadata": {
  "kernelspec": {
   "display_name": ".venv",
   "language": "python",
   "name": "python3"
  },
  "language_info": {
   "codemirror_mode": {
    "name": "ipython",
    "version": 3
   },
   "file_extension": ".py",
   "mimetype": "text/x-python",
   "name": "python",
   "nbconvert_exporter": "python",
   "pygments_lexer": "ipython3",
   "version": "3.12.7"
  }
 },
 "nbformat": 4,
 "nbformat_minor": 2
}
