{
 "cells": [
  {
   "cell_type": "markdown",
   "metadata": {},
   "source": [
    "![](Q1.png)"
   ]
  },
  {
   "cell_type": "code",
   "execution_count": 17,
   "metadata": {},
   "outputs": [
    {
     "data": {
      "text/plain": [
       "'The Transfer Function of an RLC circuit'"
      ]
     },
     "metadata": {},
     "output_type": "display_data"
    },
    {
     "data": {
      "text/latex": [
       "$\\displaystyle H_{RLC}{\\left(s \\right)} = \\frac{1}{C L s^{2} + C R s + 1}$"
      ],
      "text/plain": [
       "Eq(H_RLC(s), 1/(C*L*s**2 + C*R*s + 1))"
      ]
     },
     "metadata": {},
     "output_type": "display_data"
    }
   ],
   "source": [
    "import sympy as sm\n",
    "L,C,R, s, t,V_IN = sm.symbols('L C R s t V_IN')\n",
    "H = 1 / (L*C*s**2 + R*C*s + 1)\n",
    "display('The Transfer Function of an RLC circuit')\n",
    "display(sm.Eq(sm.Function('H_RLC')(s),H))"
   ]
  },
  {
   "cell_type": "code",
   "execution_count": 19,
   "metadata": {},
   "outputs": [],
   "source": [
    "V_OUT = H*V_IN"
   ]
  },
  {
   "cell_type": "code",
   "execution_count": 20,
   "metadata": {},
   "outputs": [
    {
     "data": {
      "text/latex": [
       "$\\displaystyle V_{OUT}{\\left(s \\right)} = \\frac{V_{IN}}{C L s^{2} + C R s + 1}$"
      ],
      "text/plain": [
       "Eq(V_OUT(s), V_IN/(C*L*s**2 + C*R*s + 1))"
      ]
     },
     "metadata": {},
     "output_type": "display_data"
    }
   ],
   "source": [
    "display(sm.Eq(sm.Function('V_OUT')(s),V_OUT))"
   ]
  },
  {
   "cell_type": "code",
   "execution_count": 24,
   "metadata": {},
   "outputs": [
    {
     "data": {
      "text/latex": [
       "$\\displaystyle \\frac{1}{s \\left(s^{2} + 0.3 s + 1\\right)}$"
      ],
      "text/plain": [
       "1/(s*(s**2 + 0.3*s + 1))"
      ]
     },
     "execution_count": 24,
     "metadata": {},
     "output_type": "execute_result"
    }
   ],
   "source": [
    "\n",
    "R = 0.3\n",
    "V_OUT = (1/s)/(s**2 +0.3*s +1)\n",
    "V_OUT"
   ]
  },
  {
   "cell_type": "code",
   "execution_count": 25,
   "metadata": {},
   "outputs": [
    {
     "data": {
      "text/latex": [
       "$\\displaystyle \\left(- 0.151716521227252 e^{- 0.15 t} \\sin{\\left(0.988685996664259 t \\right)} - 1.0 e^{- 0.15 t} \\cos{\\left(0.988685996664259 t \\right)}\\right) \\theta\\left(t\\right) + 1.0 \\theta\\left(t\\right)$"
      ],
      "text/plain": [
       "(-0.151716521227252*exp(-0.15*t)*sin(0.988685996664259*t) - 1.0*exp(-0.15*t)*cos(0.988685996664259*t))*Heaviside(t) + 1.0*Heaviside(t)"
      ]
     },
     "execution_count": 25,
     "metadata": {},
     "output_type": "execute_result"
    }
   ],
   "source": [
    "vout = sm.inverse_laplace_transform(V_OUT, s, t)\n",
    "vout"
   ]
  },
  {
   "cell_type": "code",
   "execution_count": 26,
   "metadata": {},
   "outputs": [
    {
     "data": {
      "text/latex": [
       "$\\displaystyle 0.809324510309912$"
      ],
      "text/plain": [
       "0.809324510309912"
      ]
     },
     "execution_count": 26,
     "metadata": {},
     "output_type": "execute_result"
    }
   ],
   "source": [
    "vout.subs(t,1.5)"
   ]
  }
 ],
 "metadata": {
  "kernelspec": {
   "display_name": ".venv",
   "language": "python",
   "name": "python3"
  },
  "language_info": {
   "codemirror_mode": {
    "name": "ipython",
    "version": 3
   },
   "file_extension": ".py",
   "mimetype": "text/x-python",
   "name": "python",
   "nbconvert_exporter": "python",
   "pygments_lexer": "ipython3",
   "version": "3.12.7"
  }
 },
 "nbformat": 4,
 "nbformat_minor": 2
}
