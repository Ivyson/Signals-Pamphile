{
 "cells": [
  {
   "cell_type": "markdown",
   "metadata": {},
   "source": [
    "![Description of the image](Q4.png)"
   ]
  },
  {
   "cell_type": "code",
   "execution_count": 6,
   "metadata": {},
   "outputs": [
    {
     "data": {
      "text/latex": [
       "$\\displaystyle \\frac{2.0}{0.666666666666667 s^{2} + 1.0 s + 0.175}$"
      ],
      "text/plain": [
       "2.0/(0.666666666666667*s**2 + 1.0*s + 0.175)"
      ]
     },
     "metadata": {},
     "output_type": "display_data"
    },
    {
     "data": {
      "text/latex": [
       "$\\displaystyle - 60.0 t e^{- 0.25 t} \\theta\\left(t\\right) - 1200.0 e^{- 0.25 t} \\theta\\left(t\\right) + 1200.0 e^{- 0.2 t} \\theta\\left(t\\right)$"
      ],
      "text/plain": [
       "-60.0*t*exp(-0.25*t)*Heaviside(t) - 1200.0*exp(-0.25*t)*Heaviside(t) + 1200.0*exp(-0.2*t)*Heaviside(t)"
      ]
     },
     "execution_count": 6,
     "metadata": {},
     "output_type": "execute_result"
    }
   ],
   "source": [
    "import sympy as sm\n",
    "from IPython.display import display\n",
    "\n",
    "#  Transfer function  = Output/input\n",
    "\n",
    "s, t = sm.symbols('s t')\n",
    "vin = t*sm.exp(-0.25*t)\n",
    "H = 3/(s+0.2)\n",
    "part = 3/((s+0.25)**2+(s+0.2))\n",
    "res = sm.apart(part)\n",
    "display(res)\n",
    "vout = sm.inverse_laplace_transform(H*sm.laplace_transform(vin, t, s)[0],s, t)\n",
    "vout"
   ]
  },
  {
   "cell_type": "code",
   "execution_count": 2,
   "metadata": {},
   "outputs": [
    {
     "data": {
      "text/latex": [
       "$\\displaystyle 14.9734051758001$"
      ],
      "text/plain": [
       "14.9734051758001"
      ]
     },
     "execution_count": 2,
     "metadata": {},
     "output_type": "execute_result"
    }
   ],
   "source": [
    "#  Get v(8.93)\n",
    "vout.subs(t, 8.93)"
   ]
  }
 ],
 "metadata": {
  "kernelspec": {
   "display_name": ".venv",
   "language": "python",
   "name": "python3"
  },
  "language_info": {
   "codemirror_mode": {
    "name": "ipython",
    "version": 3
   },
   "file_extension": ".py",
   "mimetype": "text/x-python",
   "name": "python",
   "nbconvert_exporter": "python",
   "pygments_lexer": "ipython3",
   "version": "3.12.7"
  }
 },
 "nbformat": 4,
 "nbformat_minor": 2
}
