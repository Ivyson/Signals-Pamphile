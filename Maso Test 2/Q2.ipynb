{
 "cells": [
  {
   "cell_type": "markdown",
   "metadata": {},
   "source": [
    "![alt text](Q2.png)"
   ]
  },
  {
   "cell_type": "code",
   "execution_count": 1,
   "metadata": {},
   "outputs": [],
   "source": [
    "import sympy as sm\n",
    "t , s = sm.symbols('t s')\n",
    "vin = 8*sm.exp(-0.5*t)\n",
    "R = 5\n",
    "C = 0.5\n",
    "# \n",
    "H = 1 / (R * C * s + 1)"
   ]
  },
  {
   "cell_type": "code",
   "execution_count": 4,
   "metadata": {},
   "outputs": [
    {
     "data": {
      "text/latex": [
       "$\\displaystyle \\frac{8}{\\left(s + 0.5\\right) \\left(2.5 s + 1\\right)}$"
      ],
      "text/plain": [
       "8/((s + 0.5)*(2.5*s + 1))"
      ]
     },
     "execution_count": 4,
     "metadata": {},
     "output_type": "execute_result"
    }
   ],
   "source": [
    "Vin = sm.laplace_transform(vin, t, s)\n",
    "Vout = H*Vin[0]\n",
    "Vout"
   ]
  },
  {
   "cell_type": "code",
   "execution_count": 6,
   "metadata": {},
   "outputs": [
    {
     "data": {
      "text/latex": [
       "$\\displaystyle - 32.0 e^{- 0.5 t} \\theta\\left(t\\right) + 32.0 e^{- 0.4 t} \\theta\\left(t\\right)$"
      ],
      "text/plain": [
       "-32.0*exp(-0.5*t)*Heaviside(t) + 32.0*exp(-0.4*t)*Heaviside(t)"
      ]
     },
     "execution_count": 6,
     "metadata": {},
     "output_type": "execute_result"
    }
   ],
   "source": [
    "vout = sm.inverse_laplace_transform(Vout, s, t)\n",
    "vout"
   ]
  },
  {
   "cell_type": "code",
   "execution_count": 7,
   "metadata": {},
   "outputs": [
    {
     "data": {
      "text/latex": [
       "$\\displaystyle 0.817398605609762$"
      ],
      "text/plain": [
       "0.817398605609762"
      ]
     },
     "execution_count": 7,
     "metadata": {},
     "output_type": "execute_result"
    }
   ],
   "source": [
    "vout.subs(t, 7.59)"
   ]
  }
 ],
 "metadata": {
  "kernelspec": {
   "display_name": ".venv",
   "language": "python",
   "name": "python3"
  },
  "language_info": {
   "codemirror_mode": {
    "name": "ipython",
    "version": 3
   },
   "file_extension": ".py",
   "mimetype": "text/x-python",
   "name": "python",
   "nbconvert_exporter": "python",
   "pygments_lexer": "ipython3",
   "version": "3.12.7"
  }
 },
 "nbformat": 4,
 "nbformat_minor": 2
}
